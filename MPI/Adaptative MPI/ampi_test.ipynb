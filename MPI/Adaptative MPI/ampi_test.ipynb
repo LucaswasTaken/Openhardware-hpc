{
  "nbformat": 4,
  "nbformat_minor": 0,
  "metadata": {
    "colab": {
      "name": "ampi_test.ipynb",
      "provenance": [],
      "collapsed_sections": []
    },
    "kernelspec": {
      "name": "python3",
      "display_name": "Python 3"
    }
  },
  "cells": [
    {
      "cell_type": "code",
      "metadata": {
        "id": "5OOZvcK1ihZN",
        "colab_type": "code",
        "outputId": "6aced2c3-251c-434e-98bc-234f4ba74b7d",
        "colab": {
          "base_uri": "https://localhost:8080/",
          "height": 134
        }
      },
      "source": [
        "!git clone https://github.com/UIUC-PPL/charm"
      ],
      "execution_count": 0,
      "outputs": [
        {
          "output_type": "stream",
          "text": [
            "Cloning into 'charm'...\n",
            "remote: Enumerating objects: 207, done.\u001b[K\n",
            "remote: Counting objects: 100% (207/207), done.\u001b[K\n",
            "remote: Compressing objects: 100% (155/155), done.\u001b[K\n",
            "remote: Total 197025 (delta 105), reused 80 (delta 48), pack-reused 196818\u001b[K\n",
            "Receiving objects: 100% (197025/197025), 91.48 MiB | 12.36 MiB/s, done.\n",
            "Resolving deltas: 100% (145803/145803), done.\n"
          ],
          "name": "stdout"
        }
      ]
    },
    {
      "cell_type": "code",
      "metadata": {
        "id": "vEN03ymViktw",
        "colab_type": "code",
        "outputId": "65534c7c-1dd9-4186-cf25-0ddaaa4dfc83",
        "colab": {
          "base_uri": "https://localhost:8080/",
          "height": 34
        }
      },
      "source": [
        "%cd  charm"
      ],
      "execution_count": 0,
      "outputs": [
        {
          "output_type": "stream",
          "text": [
            "/content/charm\n"
          ],
          "name": "stdout"
        }
      ]
    },
    {
      "cell_type": "code",
      "metadata": {
        "id": "ih6jbwi-i-u7",
        "colab_type": "code",
        "colab": {}
      },
      "source": [
        "!apt install autoconf automake\n",
        "!./build charm++ netlrts-linux-x86_64\n"
      ],
      "execution_count": 0,
      "outputs": []
    },
    {
      "cell_type": "code",
      "metadata": {
        "id": "IIyLDaSyjEPC",
        "colab_type": "code",
        "colab": {}
      },
      "source": [
        "!./build AMPI netlrts-linux-x86_64 -g"
      ],
      "execution_count": 0,
      "outputs": []
    },
    {
      "cell_type": "code",
      "metadata": {
        "id": "U_y9nViblLV2",
        "colab_type": "code",
        "outputId": "907f161b-ce74-4439-9ecb-4abc04e1c1fb",
        "colab": {
          "base_uri": "https://localhost:8080/",
          "height": 34
        }
      },
      "source": [
        "%cd /content/charm/examples/ampi"
      ],
      "execution_count": 0,
      "outputs": [
        {
          "output_type": "stream",
          "text": [
            "/content/charm/examples/ampi\n"
          ],
          "name": "stdout"
        }
      ]
    },
    {
      "cell_type": "code",
      "metadata": {
        "id": "0UkQbNXwmkh1",
        "colab_type": "code",
        "outputId": "bc7f0fc7-9277-4740-8cf9-fbb398eaf464",
        "colab": {
          "base_uri": "https://localhost:8080/",
          "height": 286
        }
      },
      "source": [
        "!make"
      ],
      "execution_count": 0,
      "outputs": [
        {
          "output_type": "stream",
          "text": [
            "make -C creduce all OPTS=''\n",
            "make[1]: Entering directory '/content/charm/examples/ampi/creduce'\n",
            "../../../bin/ampicxx  -c test.C\n",
            "../../../bin/ampicxx  -o pgm test.o \n",
            "make[1]: Leaving directory '/content/charm/examples/ampi/creduce'\n",
            "make -C Cjacobi3D all OPTS=''\n",
            "make[1]: Entering directory '/content/charm/examples/ampi/Cjacobi3D'\n",
            "../../../bin/ampicxx  -c jacobi.C \n",
            "../../../bin/ampicxx  -o jacobi jacobi.o -module CommonLBs -lm\n",
            "../../../bin/ampicxx  -c -DNO_PUP jacobi.C -o jacobi.iso.o\n",
            "../../../bin/ampicxx  -o jacobi.iso jacobi.iso.o -module CommonLBs -memory isomalloc\n",
            "../../../bin/ampicxx  -c -tlsglobals jacobi.C -o jacobi.tls.o\n",
            "../../../bin/ampicxx  -o jacobi.tls jacobi.tls.o -tlsglobals -module CommonLBs #-memory isomalloc\n",
            "../../../bin/ampicxx  -c jacobi-get.C\n",
            "../../../bin/ampicxx  -o jacobi-get jacobi-get.o -module CommonLBs -lm\n",
            "make[1]: Leaving directory '/content/charm/examples/ampi/Cjacobi3D'\n"
          ],
          "name": "stdout"
        }
      ]
    },
    {
      "cell_type": "code",
      "metadata": {
        "id": "DAJ3oyNjntqU",
        "colab_type": "code",
        "outputId": "43d5b1ef-66f7-4d2a-c4be-0de4e6d5aae5",
        "colab": {
          "base_uri": "https://localhost:8080/",
          "height": 34
        }
      },
      "source": [
        "%cd /content/charm/examples/ampi/lulesh"
      ],
      "execution_count": 0,
      "outputs": [
        {
          "output_type": "stream",
          "text": [
            "/content/charm/examples/ampi\n"
          ],
          "name": "stdout"
        }
      ]
    },
    {
      "cell_type": "code",
      "metadata": {
        "id": "yzt6OzJNrQBK",
        "colab_type": "code",
        "outputId": "de6afe33-5c49-48a8-98ec-730947b0322f",
        "colab": {
          "base_uri": "https://localhost:8080/",
          "height": 34
        }
      },
      "source": [
        "!./ampirun jacobi"
      ],
      "execution_count": 0,
      "outputs": [
        {
          "output_type": "stream",
          "text": [
            "Usage: jacobi X Y Z [nIter].\n"
          ],
          "name": "stdout"
        }
      ]
    },
    {
      "cell_type": "code",
      "metadata": {
        "id": "t_IO7MaorUmt",
        "colab_type": "code",
        "outputId": "1001c6e8-8bec-4233-eab7-fb399d6d23c9",
        "colab": {
          "base_uri": "https://localhost:8080/",
          "height": 322
        }
      },
      "source": [
        "!make"
      ],
      "execution_count": 0,
      "outputs": [
        {
          "output_type": "stream",
          "text": [
            "make -C creduce all OPTS=''\n",
            "make[1]: Entering directory '/content/charm/examples/ampi/creduce'\n",
            "make[1]: Nothing to be done for 'all'.\n",
            "make[1]: Leaving directory '/content/charm/examples/ampi/creduce'\n",
            "make -C Cjacobi3D all OPTS=''\n",
            "make[1]: Entering directory '/content/charm/examples/ampi/Cjacobi3D'\n",
            "make[1]: Nothing to be done for 'all'.\n",
            "make[1]: Leaving directory '/content/charm/examples/ampi/Cjacobi3D'\n",
            "make -C lulesh all OPTS=''\n",
            "make[1]: Entering directory '/content/charm/examples/ampi/lulesh'\n",
            "/content/charm/bin/ampicxx -g -O2 -DUSE_MPI=1 -D_OPENMP=0 -module CommonLBs -memory isomalloc  -c  -o lulesh-viz_ampi.o  lulesh-viz.cc\n",
            "/content/charm/bin/ampicxx -g -O2 -DUSE_MPI=1 -D_OPENMP=0 -module CommonLBs -memory isomalloc  -c  -o lulesh-comm_ampi.o  lulesh-comm.cc\n",
            "/content/charm/bin/ampicxx -g -O2 -DUSE_MPI=1 -D_OPENMP=0 -module CommonLBs -memory isomalloc  -c  -o lulesh_ampi.o  lulesh.cc\n",
            "/content/charm/bin/ampicxx -g -O2 -DUSE_MPI=1 -D_OPENMP=0 -module CommonLBs -memory isomalloc  -c  -o lulesh-init_ampi.o  lulesh-init.cc\n",
            "/content/charm/bin/ampicxx -g -O2 -DUSE_MPI=1 -D_OPENMP=0 -module CommonLBs -memory isomalloc  -c  -o lulesh-util_ampi.o  lulesh-util.cc\n",
            "/content/charm/bin/ampicxx -g -O2 -DUSE_MPI=1 -D_OPENMP=0 -module CommonLBs -memory isomalloc  lulesh-viz_ampi.o lulesh-comm_ampi.o lulesh_ampi.o lulesh-init_ampi.o lulesh-util_ampi.o  -lm -o lulesh_ampi\n",
            "make[1]: Leaving directory '/content/charm/examples/ampi/lulesh'\n"
          ],
          "name": "stdout"
        }
      ]
    },
    {
      "cell_type": "code",
      "metadata": {
        "id": "d-P7StRzsogk",
        "colab_type": "code",
        "outputId": "4142fc5b-1127-4e6e-e5dd-ee26f7429e90",
        "colab": {
          "base_uri": "https://localhost:8080/",
          "height": 34
        }
      },
      "source": [
        "%cd lulesh"
      ],
      "execution_count": 0,
      "outputs": [
        {
          "output_type": "stream",
          "text": [
            "/content/charm/examples/ampi/lulesh\n"
          ],
          "name": "stdout"
        }
      ]
    },
    {
      "cell_type": "code",
      "metadata": {
        "id": "956572YUuHBd",
        "colab_type": "code",
        "colab": {}
      },
      "source": [
        "!chmod +x ampirun"
      ],
      "execution_count": 0,
      "outputs": []
    },
    {
      "cell_type": "code",
      "metadata": {
        "id": "omuoi2PAue_m",
        "colab_type": "code",
        "outputId": "c90243ff-7ef8-4e49-82c0-f4cd86014380",
        "colab": {
          "base_uri": "https://localhost:8080/",
          "height": 470
        }
      },
      "source": [
        "!./ampirun lulesh_ampi"
      ],
      "execution_count": 0,
      "outputs": [
        {
          "output_type": "stream",
          "text": [
            "Running problem size 30^3 per domain until completion\n",
            "Num processors: 1\n",
            "Total number of elements: 27000\n",
            "\n",
            "To run other sizes, use -s <integer>.\n",
            "To run a fixed number of iterations, use -i <integer>.\n",
            "To run a more or less balanced region set, use -b <integer>.\n",
            "To change the relative costs of regions, use -c <integer>.\n",
            "To print out progress, use -p\n",
            "To write an output file for VisIt, use -v\n",
            "See help (-h) for more options\n",
            "\n",
            "Run completed:  \n",
            "   Problem size        =  30 \n",
            "   MPI tasks           =  1 \n",
            "   Iteration count     =  932 \n",
            "   Final Origin Energy = 2.025075e+05 \n",
            "   Testing Plane 0 of Energy Array on rank 0:\n",
            "        MaxAbsDiff   = 7.639755e-11\n",
            "        TotalAbsDiff = 8.590535e-10\n",
            "        MaxRelDiff   = 1.482369e-12\n",
            "\n",
            "\n",
            "Elapsed time         =      40.04 (s)\n",
            "Grind time (us/z/c)  =  1.5913253 (per dom)  ( 1.5913253 overall)\n",
            "FOM                  =  628.40703 (z/s)\n",
            "\n"
          ],
          "name": "stdout"
        }
      ]
    },
    {
      "cell_type": "code",
      "metadata": {
        "id": "FLVH5ZYOvEIS",
        "colab_type": "code",
        "colab": {}
      },
      "source": [
        "!chmod +x charmrun"
      ],
      "execution_count": 0,
      "outputs": []
    },
    {
      "cell_type": "code",
      "metadata": {
        "id": "AnwzEnhzv4aj",
        "colab_type": "code",
        "outputId": "1b794887-6eef-4e78-8867-ada703c6258d",
        "colab": {
          "base_uri": "https://localhost:8080/",
          "height": 1000
        }
      },
      "source": [
        "!./charmrun ++local lulesh_ampi +p2 +vp8 -s 5 -p -b 3 -c 50 +balancer RotateLB +LBDebug 1 +isomalloc_sync"
      ],
      "execution_count": 0,
      "outputs": [
        {
          "output_type": "stream",
          "text": [
            "Charmrun> scalable start enabled. \n",
            "Charmrun> started all node programs in 0.009 seconds.\n",
            "Charm++> Running in non-SMP mode: 2 processes (PEs)\n",
            "Converse/Charm++ Commit ID: v6.10.0-rc2-125-g5bff371a6\n",
            "Charm++> Synchronizing isomalloc memory region...\n",
            "Charm++> Consolidated Isomalloc memory region: 0x400000000 - 0x558540000000 (89658368 MB).\n",
            "Charm++> scheduler running in netpoll mode.\n",
            "CharmLB> Verbose level 1, load balancing period: 0.5 seconds\n",
            "CharmLB> Load balancer assumes all CPUs are same.\n",
            "Charm++> Running on 1 hosts (1 sockets x 1 cores x 2 PUs = 2-way SMP)\n",
            "Charm++> cpu topology info is gathered in 0.000 seconds.\n",
            "CharmLB> RotateLB created.\n",
            "Running problem size 5^3 per domain until completion\n",
            "Num processors: 8\n",
            "Total number of elements: 1000\n",
            "\n",
            "To run other sizes, use -s <integer>.\n",
            "To run a fixed number of iterations, use -i <integer>.\n",
            "To run a more or less balanced region set, use -b <integer>.\n",
            "To change the relative costs of regions, use -c <integer>.\n",
            "To print out progress, use -p\n",
            "To write an output file for VisIt, use -v\n",
            "See help (-h) for more options\n",
            "\n",
            "cycle = 1, time = 6.042222e-05, dt = 6.042222e-05\n",
            "cycle = 2, time = 1.329289e-04, dt = 7.250667e-05\n",
            "cycle = 3, time = 1.577814e-04, dt = 2.485252e-05\n",
            "cycle = 4, time = 1.785352e-04, dt = 2.075378e-05\n",
            "cycle = 5, time = 1.970364e-04, dt = 1.850120e-05\n",
            "cycle = 6, time = 2.142156e-04, dt = 1.717920e-05\n",
            "cycle = 7, time = 2.305486e-04, dt = 1.633299e-05\n",
            "cycle = 8, time = 2.463245e-04, dt = 1.577590e-05\n",
            "cycle = 9, time = 2.617391e-04, dt = 1.541457e-05\n",
            "cycle = 10, time = 2.769363e-04, dt = 1.519719e-05\n",
            "cycle = 11, time = 2.951729e-04, dt = 1.823663e-05\n",
            "cycle = 12, time = 3.157630e-04, dt = 2.059010e-05\n",
            "cycle = 13, time = 3.352273e-04, dt = 1.946426e-05\n",
            "cycle = 14, time = 3.535703e-04, dt = 1.834305e-05\n",
            "cycle = 15, time = 3.707910e-04, dt = 1.722074e-05\n",
            "cycle = 16, time = 3.872315e-04, dt = 1.644046e-05\n",
            "cycle = 17, time = 4.031820e-04, dt = 1.595050e-05\n",
            "cycle = 18, time = 4.188919e-04, dt = 1.570987e-05\n",
            "cycle = 19, time = 4.345993e-04, dt = 1.570739e-05\n",
            "cycle = 20, time = 4.503067e-04, dt = 1.570739e-05\n",
            "cycle = 21, time = 4.660141e-04, dt = 1.570739e-05\n",
            "cycle = 22, time = 4.817214e-04, dt = 1.570739e-05\n",
            "cycle = 23, time = 4.974288e-04, dt = 1.570739e-05\n",
            "cycle = 24, time = 5.148145e-04, dt = 1.738567e-05\n",
            "cycle = 25, time = 5.322002e-04, dt = 1.738567e-05\n",
            "cycle = 26, time = 5.495859e-04, dt = 1.738567e-05\n",
            "cycle = 27, time = 5.694025e-04, dt = 1.981663e-05\n",
            "cycle = 28, time = 5.892191e-04, dt = 1.981663e-05\n",
            "cycle = 29, time = 6.128838e-04, dt = 2.366472e-05\n",
            "cycle = 30, time = 6.397380e-04, dt = 2.685415e-05\n",
            "cycle = 31, time = 6.655179e-04, dt = 2.577995e-05\n",
            "cycle = 32, time = 6.904272e-04, dt = 2.490928e-05\n",
            "cycle = 33, time = 7.147383e-04, dt = 2.431110e-05\n",
            "cycle = 34, time = 7.386614e-04, dt = 2.392308e-05\n",
            "cycle = 35, time = 7.624095e-04, dt = 2.374810e-05\n",
            "cycle = 36, time = 7.861576e-04, dt = 2.374810e-05\n",
            "cycle = 37, time = 8.099057e-04, dt = 2.374810e-05\n",
            "cycle = 38, time = 8.336538e-04, dt = 2.374810e-05\n",
            "cycle = 39, time = 8.574019e-04, dt = 2.374810e-05\n",
            "cycle = 40, time = 8.840135e-04, dt = 2.661155e-05\n",
            "cycle = 41, time = 9.106250e-04, dt = 2.661155e-05\n",
            "cycle = 42, time = 9.372366e-04, dt = 2.661155e-05\n",
            "cycle = 43, time = 9.638481e-04, dt = 2.661155e-05\n",
            "cycle = 44, time = 9.904597e-04, dt = 2.661155e-05\n",
            "cycle = 45, time = 1.016858e-03, dt = 2.639872e-05\n",
            "cycle = 46, time = 1.042696e-03, dt = 2.583745e-05\n",
            "cycle = 47, time = 1.068054e-03, dt = 2.535772e-05\n",
            "cycle = 48, time = 1.093018e-03, dt = 2.496440e-05\n",
            "cycle = 49, time = 1.117672e-03, dt = 2.465395e-05\n",
            "cycle = 50, time = 1.142106e-03, dt = 2.443381e-05\n",
            "cycle = 51, time = 1.166408e-03, dt = 2.430200e-05\n",
            "cycle = 52, time = 1.190690e-03, dt = 2.428191e-05\n",
            "cycle = 53, time = 1.214972e-03, dt = 2.428191e-05\n",
            "cycle = 54, time = 1.239253e-03, dt = 2.428191e-05\n",
            "cycle = 55, time = 1.263535e-03, dt = 2.428191e-05\n",
            "cycle = 56, time = 1.287817e-03, dt = 2.428191e-05\n",
            "cycle = 57, time = 1.312099e-03, dt = 2.428191e-05\n",
            "cycle = 58, time = 1.338995e-03, dt = 2.689535e-05\n",
            "cycle = 59, time = 1.365890e-03, dt = 2.689535e-05\n",
            "cycle = 60, time = 1.395659e-03, dt = 2.976895e-05\n",
            "cycle = 61, time = 1.425428e-03, dt = 2.976895e-05\n",
            "cycle = 62, time = 1.458661e-03, dt = 3.323346e-05\n",
            "cycle = 63, time = 1.491895e-03, dt = 3.323346e-05\n",
            "cycle = 64, time = 1.525128e-03, dt = 3.323346e-05\n",
            "cycle = 65, time = 1.558362e-03, dt = 3.323346e-05\n",
            "cycle = 66, time = 1.591595e-03, dt = 3.323346e-05\n",
            "cycle = 67, time = 1.624829e-03, dt = 3.323346e-05\n",
            "cycle = 68, time = 1.658062e-03, dt = 3.323346e-05\n",
            "cycle = 69, time = 1.691295e-03, dt = 3.323346e-05\n",
            "cycle = 70, time = 1.724529e-03, dt = 3.323346e-05\n",
            "cycle = 71, time = 1.757762e-03, dt = 3.323346e-05\n",
            "cycle = 72, time = 1.790996e-03, dt = 3.323346e-05\n",
            "cycle = 73, time = 1.824229e-03, dt = 3.323346e-05\n",
            "cycle = 74, time = 1.857463e-03, dt = 3.323346e-05\n",
            "cycle = 75, time = 1.890696e-03, dt = 3.323346e-05\n",
            "cycle = 76, time = 1.923930e-03, dt = 3.323346e-05\n",
            "cycle = 77, time = 1.957163e-03, dt = 3.323346e-05\n",
            "cycle = 78, time = 1.990397e-03, dt = 3.323346e-05\n",
            "cycle = 79, time = 2.023630e-03, dt = 3.323346e-05\n",
            "cycle = 80, time = 2.056812e-03, dt = 3.318201e-05\n",
            "cycle = 81, time = 2.089336e-03, dt = 3.252382e-05\n",
            "cycle = 82, time = 2.121295e-03, dt = 3.195957e-05\n",
            "cycle = 83, time = 2.152794e-03, dt = 3.149807e-05\n",
            "cycle = 84, time = 2.183930e-03, dt = 3.113625e-05\n",
            "cycle = 85, time = 2.214804e-03, dt = 3.087375e-05\n",
            "cycle = 86, time = 2.245509e-03, dt = 3.070529e-05\n",
            "cycle = 87, time = 2.276136e-03, dt = 3.062670e-05\n",
            "cycle = 88, time = 2.306762e-03, dt = 3.062670e-05\n",
            "cycle = 89, time = 2.337389e-03, dt = 3.062670e-05\n",
            "cycle = 90, time = 2.368016e-03, dt = 3.062670e-05\n",
            "cycle = 91, time = 2.398642e-03, dt = 3.062670e-05\n",
            "cycle = 92, time = 2.429269e-03, dt = 3.062670e-05\n",
            "cycle = 93, time = 2.459896e-03, dt = 3.062670e-05\n",
            "cycle = 94, time = 2.490522e-03, dt = 3.062670e-05\n",
            "cycle = 95, time = 2.525177e-03, dt = 3.465438e-05\n",
            "cycle = 96, time = 2.559831e-03, dt = 3.465438e-05\n",
            "cycle = 97, time = 2.598529e-03, dt = 3.869748e-05\n",
            "cycle = 98, time = 2.637226e-03, dt = 3.869748e-05\n",
            "cycle = 99, time = 2.675924e-03, dt = 3.869748e-05\n",
            "cycle = 100, time = 2.719030e-03, dt = 4.310595e-05\n",
            "cycle = 101, time = 2.762136e-03, dt = 4.310595e-05\n",
            "cycle = 102, time = 2.805241e-03, dt = 4.310595e-05\n",
            "cycle = 103, time = 2.848347e-03, dt = 4.310595e-05\n",
            "cycle = 104, time = 2.891453e-03, dt = 4.310595e-05\n",
            "cycle = 105, time = 2.934559e-03, dt = 4.310595e-05\n",
            "cycle = 106, time = 2.977665e-03, dt = 4.310595e-05\n",
            "cycle = 107, time = 3.020771e-03, dt = 4.310595e-05\n",
            "cycle = 108, time = 3.063877e-03, dt = 4.310595e-05\n",
            "cycle = 109, time = 3.106983e-03, dt = 4.310595e-05\n",
            "cycle = 110, time = 3.150089e-03, dt = 4.310595e-05\n",
            "cycle = 111, time = 3.193195e-03, dt = 4.310595e-05\n",
            "cycle = 112, time = 3.236301e-03, dt = 4.310595e-05\n",
            "cycle = 113, time = 3.279407e-03, dt = 4.310595e-05\n",
            "cycle = 114, time = 3.322513e-03, dt = 4.310595e-05\n",
            "cycle = 115, time = 3.370254e-03, dt = 4.774121e-05\n",
            "cycle = 116, time = 3.417995e-03, dt = 4.774121e-05\n",
            "cycle = 117, time = 3.465737e-03, dt = 4.774121e-05\n",
            "cycle = 118, time = 3.512637e-03, dt = 4.690068e-05\n",
            "cycle = 119, time = 3.558429e-03, dt = 4.579153e-05\n",
            "cycle = 120, time = 3.603237e-03, dt = 4.480843e-05\n",
            "cycle = 121, time = 3.647186e-03, dt = 4.394907e-05\n",
            "cycle = 122, time = 3.690392e-03, dt = 4.320603e-05\n",
            "cycle = 123, time = 3.732964e-03, dt = 4.257175e-05\n",
            "cycle = 124, time = 3.775005e-03, dt = 4.204129e-05\n",
            "cycle = 125, time = 3.816618e-03, dt = 4.161314e-05\n",
            "cycle = 126, time = 3.857944e-03, dt = 4.132567e-05\n",
            "cycle = 127, time = 3.899132e-03, dt = 4.118807e-05\n",
            "cycle = 128, time = 3.940320e-03, dt = 4.118807e-05\n",
            "cycle = 129, time = 3.981508e-03, dt = 4.118807e-05\n",
            "cycle = 130, time = 4.022696e-03, dt = 4.118807e-05\n",
            "cycle = 131, time = 4.063885e-03, dt = 4.118807e-05\n",
            "cycle = 132, time = 4.105073e-03, dt = 4.118807e-05\n",
            "cycle = 133, time = 4.146261e-03, dt = 4.118807e-05\n",
            "cycle = 134, time = 4.187449e-03, dt = 4.118807e-05\n",
            "cycle = 135, time = 4.234042e-03, dt = 4.659300e-05\n",
            "cycle = 136, time = 4.280635e-03, dt = 4.659300e-05\n",
            "cycle = 137, time = 4.327228e-03, dt = 4.659300e-05\n",
            "cycle = 138, time = 4.373821e-03, dt = 4.659300e-05\n",
            "cycle = 139, time = 4.425248e-03, dt = 5.142729e-05\n",
            "cycle = 140, time = 4.476675e-03, dt = 5.142729e-05\n",
            "cycle = 141, time = 4.528103e-03, dt = 5.142729e-05\n",
            "cycle = 142, time = 4.579530e-03, dt = 5.142729e-05\n",
            "cycle = 143, time = 4.630957e-03, dt = 5.142729e-05\n",
            "cycle = 144, time = 4.682385e-03, dt = 5.142729e-05\n",
            "cycle = 145, time = 4.733812e-03, dt = 5.142729e-05\n",
            "cycle = 146, time = 4.785239e-03, dt = 5.142729e-05\n",
            "cycle = 147, time = 4.836666e-03, dt = 5.142729e-05\n",
            "cycle = 148, time = 4.893617e-03, dt = 5.695049e-05\n",
            "cycle = 149, time = 4.950567e-03, dt = 5.695049e-05\n",
            "cycle = 150, time = 5.007518e-03, dt = 5.695049e-05\n",
            "cycle = 151, time = 5.064468e-03, dt = 5.695049e-05\n",
            "cycle = 152, time = 5.121419e-03, dt = 5.695049e-05\n",
            "cycle = 153, time = 5.178369e-03, dt = 5.695049e-05\n",
            "cycle = 154, time = 5.235320e-03, dt = 5.695049e-05\n",
            "cycle = 155, time = 5.292270e-03, dt = 5.695049e-05\n",
            "cycle = 156, time = 5.349221e-03, dt = 5.695049e-05\n",
            "cycle = 157, time = 5.406171e-03, dt = 5.695049e-05\n",
            "cycle = 158, time = 5.463122e-03, dt = 5.695049e-05\n",
            "cycle = 159, time = 5.520072e-03, dt = 5.695049e-05\n",
            "cycle = 160, time = 5.576263e-03, dt = 5.619048e-05\n",
            "cycle = 161, time = 5.631275e-03, dt = 5.501204e-05\n",
            "cycle = 162, time = 5.685269e-03, dt = 5.399412e-05\n",
            "cycle = 163, time = 5.738405e-03, dt = 5.313660e-05\n",
            "cycle = 164, time = 5.790837e-03, dt = 5.243169e-05\n",
            "cycle = 165, time = 5.842713e-03, dt = 5.187568e-05\n",
            "cycle = 166, time = 5.894181e-03, dt = 5.146832e-05\n",
            "cycle = 167, time = 5.945410e-03, dt = 5.122898e-05\n",
            "cycle = 168, time = 5.996573e-03, dt = 5.116297e-05\n",
            "cycle = 169, time = 6.047736e-03, dt = 5.116297e-05\n",
            "cycle = 170, time = 6.098899e-03, dt = 5.116297e-05\n",
            "cycle = 171, time = 6.150062e-03, dt = 5.116297e-05\n",
            "cycle = 172, time = 6.201225e-03, dt = 5.116297e-05\n",
            "cycle = 173, time = 6.252388e-03, dt = 5.116297e-05\n",
            "cycle = 174, time = 6.303551e-03, dt = 5.116297e-05\n",
            "cycle = 175, time = 6.360191e-03, dt = 5.664027e-05\n",
            "cycle = 176, time = 6.416831e-03, dt = 5.664027e-05\n",
            "cycle = 177, time = 6.473472e-03, dt = 5.664027e-05\n",
            "cycle = 178, time = 6.530112e-03, dt = 5.664027e-05\n",
            "cycle = 179, time = 6.586752e-03, dt = 5.664027e-05\n",
            "cycle = 180, time = 6.650039e-03, dt = 6.328635e-05\n",
            "cycle = 181, time = 6.713325e-03, dt = 6.328635e-05\n",
            "cycle = 182, time = 6.776611e-03, dt = 6.328635e-05\n",
            "cycle = 183, time = 6.839898e-03, dt = 6.328635e-05\n",
            "cycle = 184, time = 6.903184e-03, dt = 6.328635e-05\n",
            "cycle = 185, time = 6.966470e-03, dt = 6.328635e-05\n",
            "cycle = 186, time = 7.029757e-03, dt = 6.328635e-05\n",
            "cycle = 187, time = 7.093043e-03, dt = 6.328635e-05\n",
            "cycle = 188, time = 7.156329e-03, dt = 6.328635e-05\n",
            "cycle = 189, time = 7.219616e-03, dt = 6.328635e-05\n",
            "cycle = 190, time = 7.282902e-03, dt = 6.328635e-05\n",
            "cycle = 191, time = 7.346188e-03, dt = 6.328635e-05\n",
            "cycle = 192, time = 7.416350e-03, dt = 7.016124e-05\n",
            "cycle = 193, time = 7.486511e-03, dt = 7.016124e-05\n",
            "cycle = 194, time = 7.556672e-03, dt = 7.016124e-05\n",
            "cycle = 195, time = 7.626833e-03, dt = 7.016124e-05\n",
            "cycle = 196, time = 7.696995e-03, dt = 7.016124e-05\n",
            "cycle = 197, time = 7.767156e-03, dt = 7.016124e-05\n",
            "cycle = 198, time = 7.837317e-03, dt = 7.016124e-05\n",
            "cycle = 199, time = 7.906313e-03, dt = 6.899545e-05\n",
            "cycle = 200, time = 7.973619e-03, dt = 6.730607e-05\n",
            "cycle = 201, time = 8.039393e-03, dt = 6.577475e-05\n",
            "cycle = 202, time = 8.103797e-03, dt = 6.440320e-05\n",
            "cycle = 203, time = 8.167006e-03, dt = 6.320978e-05\n",
            "cycle = 204, time = 8.229231e-03, dt = 6.222507e-05\n",
            "cycle = 205, time = 8.290671e-03, dt = 6.143944e-05\n",
            "cycle = 206, time = 8.351518e-03, dt = 6.084754e-05\n",
            "cycle = 207, time = 8.411968e-03, dt = 6.044959e-05\n",
            "cycle = 208, time = 8.472219e-03, dt = 6.025147e-05\n",
            "cycle = 209, time = 8.532471e-03, dt = 6.025147e-05\n",
            "cycle = 210, time = 8.592722e-03, dt = 6.025147e-05\n",
            "cycle = 211, time = 8.652974e-03, dt = 6.025147e-05\n",
            "cycle = 212, time = 8.713225e-03, dt = 6.025147e-05\n",
            "cycle = 213, time = 8.773477e-03, dt = 6.025147e-05\n",
            "cycle = 214, time = 8.833728e-03, dt = 6.025147e-05\n",
            "cycle = 215, time = 8.893980e-03, dt = 6.025147e-05\n",
            "cycle = 216, time = 8.961428e-03, dt = 6.744839e-05\n",
            "cycle = 217, time = 9.028877e-03, dt = 6.744839e-05\n",
            "cycle = 218, time = 9.096325e-03, dt = 6.744839e-05\n",
            "cycle = 219, time = 9.163773e-03, dt = 6.744839e-05\n",
            "cycle = 220, time = 9.231222e-03, dt = 6.744839e-05\n",
            "cycle = 221, time = 9.306877e-03, dt = 7.565509e-05\n",
            "cycle = 222, time = 9.382532e-03, dt = 7.565509e-05\n",
            "cycle = 223, time = 9.458187e-03, dt = 7.565509e-05\n",
            "cycle = 224, time = 9.533842e-03, dt = 7.565509e-05\n",
            "cycle = 225, time = 9.609497e-03, dt = 7.565509e-05\n",
            "cycle = 226, time = 9.685152e-03, dt = 7.565509e-05\n",
            "cycle = 227, time = 9.760807e-03, dt = 7.565509e-05\n",
            "cycle = 228, time = 9.836463e-03, dt = 7.565509e-05\n",
            "cycle = 229, time = 9.912118e-03, dt = 7.565509e-05\n",
            "cycle = 230, time = 9.962554e-03, dt = 5.043673e-05\n",
            "cycle = 231, time = 1.000000e-02, dt = 3.744566e-05\n",
            "Run completed:  \n",
            "   Problem size        =  5 \n",
            "   MPI tasks           =  8 \n",
            "   Iteration count     =  231 \n",
            "   Final Origin Energy = 2.720531e+04 \n",
            "   Testing Plane 0 of Energy Array on rank 0:\n",
            "        MaxAbsDiff   = 8.185452e-12\n",
            "        TotalAbsDiff = 1.512035e-11\n",
            "        MaxRelDiff   = 2.520539e-15\n",
            "\n",
            "\n",
            "Elapsed time         =       2.75 (s)\n",
            "Grind time (us/z/c)  =  95.083765 (per dom)  ( 11.885471 overall)\n",
            "FOM                  =   84.13634 (z/s)\n",
            "\n",
            "[Partition 0][Node 0] End of program\n"
          ],
          "name": "stdout"
        }
      ]
    },
    {
      "cell_type": "code",
      "metadata": {
        "id": "9MR2KsLqv5-Y",
        "colab_type": "code",
        "colab": {}
      },
      "source": [
        ""
      ],
      "execution_count": 0,
      "outputs": []
    }
  ]
}