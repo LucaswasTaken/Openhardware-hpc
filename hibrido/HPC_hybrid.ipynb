{
  "nbformat": 4,
  "nbformat_minor": 0,
  "metadata": {
    "colab": {
      "name": "HPC_hybrid.ipynb",
      "provenance": [],
      "collapsed_sections": [],
      "authorship_tag": "ABX9TyOKk9ZWX1fljzWVidYUMhhc",
      "include_colab_link": true
    },
    "kernelspec": {
      "name": "python3",
      "display_name": "Python 3"
    },
    "accelerator": "GPU"
  },
  "cells": [
    {
      "cell_type": "markdown",
      "metadata": {
        "id": "view-in-github",
        "colab_type": "text"
      },
      "source": [
        "<a href=\"https://colab.research.google.com/github/LucaswasTaken/Openhardware-hpc/blob/master/hibrido/HPC_hybrid.ipynb\" target=\"_parent\"><img src=\"https://colab.research.google.com/assets/colab-badge.svg\" alt=\"Open In Colab\"/></a>"
      ]
    },
    {
      "cell_type": "markdown",
      "source": [
        "# Programação Hibrida"
      ],
      "metadata": {
        "id": "ddYfRnZQJ8ln"
      }
    },
    {
      "cell_type": "code",
      "metadata": {
        "id": "R3QeGtjWshio"
      },
      "source": [
        "!pip install parsl\n",
        "!pip install mpi4py\n",
        "!pip install pyopencl\n",
        "!git clone https://github.com/LucaswasTaken/Openhardware-hpc.git"
      ],
      "execution_count": null,
      "outputs": []
    },
    {
      "cell_type": "code",
      "metadata": {
        "id": "IHAwC-iwtbN6",
        "colab": {
          "base_uri": "https://localhost:8080/",
          "height": 104
        },
        "outputId": "4a1e432d-379c-4074-93ef-41e2ed3a4a55"
      },
      "source": [
        "!time mpirun --allow-run-as-root -np 4 python /content/Openhardware-hpc/pyopencl/mpicl.py"
      ],
      "execution_count": null,
      "outputs": [
        {
          "output_type": "stream",
          "text": [
            "pi is 3.1415926769691254\n",
            "\n",
            "real\t0m4.563s\n",
            "user\t0m7.122s\n",
            "sys\t0m1.137s\n"
          ],
          "name": "stdout"
        }
      ]
    },
    {
      "cell_type": "code",
      "metadata": {
        "id": "dP93H8lpLJ54"
      },
      "source": [
        "import parsl\n",
        "parsl.load()"
      ],
      "execution_count": null,
      "outputs": []
    },
    {
      "cell_type": "code",
      "metadata": {
        "id": "4_JU30PRwXe6"
      },
      "source": [
        "import os\n",
        "from parsl.app.app import python_app, bash_app\n",
        "from parsl.configs.local_threads import config\n",
        "import numpy as np\n",
        "\n",
        "@python_app\n",
        "def sum_pi(i,dx):\n",
        "    x = (i + 0.5) * dx\n",
        "    partial_pi = 4.0 / (1.0 + x * x)*dx\n",
        "    return partial_pi\n",
        "\n",
        "# number of integration steps\n",
        "nsteps = 100000\n",
        "# step size\n",
        "dx = 1.0 / nsteps\n",
        "pi_array = []\n",
        "\n",
        "\n",
        "for i in range(nsteps):\n",
        "  pi_array.append(sum_pi(i,dx))\n",
        "pi_fake = 0\n",
        "for pi_parcela in pi_array:\n",
        "  pi_fake+= pi_parcela.result()"
      ],
      "execution_count": null,
      "outputs": []
    },
    {
      "cell_type": "code",
      "metadata": {
        "id": "DIu_LgZDLFOg",
        "colab": {
          "base_uri": "https://localhost:8080/",
          "height": 35
        },
        "outputId": "7d53975f-0df6-483e-eb0d-26dd85ede649"
      },
      "source": [
        "pi_fake"
      ],
      "execution_count": null,
      "outputs": [
        {
          "output_type": "execute_result",
          "data": {
            "text/plain": [
              "3.141592653598167"
            ]
          },
          "metadata": {
            "tags": []
          },
          "execution_count": 9
        }
      ]
    },
    {
      "cell_type": "code",
      "metadata": {
        "id": "bRulQMUitS-K"
      },
      "source": [
        "import parsl\n",
        "import os\n",
        "from parsl.app.app import python_app, bash_app\n",
        "from parsl.configs.local_threads import config\n",
        "\n",
        "@bash_app\n",
        "def run_mpi4pi(i, n_steps, stdout='mpi-hello.stdout', stderr='mpi-hello.stderr'):\n",
        "    return ('mpirun --allow-run-as-root -np 4 python /content/Openhardware-hpc/pyopencl/parsl_mpi_cl.py '+str(i) + ' ' + str(n_steps))\n",
        "n_steps = 5\n",
        "for i in range(n_steps):\n",
        "  run_mpi4pi(i,n_steps)\n"
      ],
      "execution_count": null,
      "outputs": []
    },
    {
      "cell_type": "code",
      "metadata": {
        "id": "1Ilmp6cdMZY7"
      },
      "source": [
        ""
      ],
      "execution_count": null,
      "outputs": []
    }
  ]
}